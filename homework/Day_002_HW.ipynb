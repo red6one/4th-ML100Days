{
 "cells": [
  {
   "cell_type": "markdown",
   "metadata": {},
   "source": [
    "## [作業目標]\n",
    "了解機器學習適合應用的領域與範疇。"
   ]
  },
  {
   "cell_type": "markdown",
   "metadata": {},
   "source": [
    "## [作業重點]\n",
    "透過瞭解機器學習的運作方式，找出非常適用機器學習應用的領域及其原因"
   ]
  },
  {
   "cell_type": "markdown",
   "metadata": {},
   "source": [
    "## 作業\n",
    "請找出一個你認為機器學習可以發光發熱的領域並闡述原因? "
   ]
  },
  {
   "cell_type": "code",
   "execution_count": 1,
   "metadata": {},
   "outputs": [
    {
     "ename": "SyntaxError",
     "evalue": "invalid character in identifier (<ipython-input-1-7254a3e50a4c>, line 1)",
     "output_type": "error",
     "traceback": [
      "\u001b[1;36m  File \u001b[1;32m\"<ipython-input-1-7254a3e50a4c>\"\u001b[1;36m, line \u001b[1;32m1\u001b[0m\n\u001b[1;33m    機器學習在醫療檢測領域可以放光發熱，尤其是細胞檢測，細胞的型態有很高的多樣性，不是一般影像處理就能檢測出異常。\u001b[0m\n\u001b[1;37m                                                          ^\u001b[0m\n\u001b[1;31mSyntaxError\u001b[0m\u001b[1;31m:\u001b[0m invalid character in identifier\n"
     ]
    }
   ],
   "source": [
    "機器學習在醫療檢測領域可以放光發熱，尤其是細胞檢測，細胞的型態有很高的多樣性，不是一般影像處理就能檢測出異常。\n",
    "過往醫檢師在一片玻片尋找異常細胞都是先簡單瀏覽，若發現有疑似異常細胞才會zoom in去作再確認的動作，在這方面的工作是十分耗時效率不高。\n",
    "使用了機器學習，它能夠幫你標記出機率較高的部分，並能以不一樣的\"觀點\"作判斷，跳出人類在作判斷時的傳統思維，讓醫檢師或醫生在作檢測時，\n",
    "能夠減少一些程序，使他們專注在他們的專業上，也能讓醫師們發現他們可能忽略掉的部分。\n",
    "機器學習也有個最重要的優點，就是它在作大量的檢測能夠快速且毫無情緒的作出判斷。"
   ]
  }
 ],
 "metadata": {
  "kernelspec": {
   "display_name": "Python 3",
   "language": "python",
   "name": "python3"
  },
  "language_info": {
   "codemirror_mode": {
    "name": "ipython",
    "version": 3
   },
   "file_extension": ".py",
   "mimetype": "text/x-python",
   "name": "python",
   "nbconvert_exporter": "python",
   "pygments_lexer": "ipython3",
   "version": "3.6.5"
  }
 },
 "nbformat": 4,
 "nbformat_minor": 2
}
